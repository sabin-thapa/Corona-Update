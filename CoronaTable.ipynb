{
 "cells": [
  {
   "cell_type": "code",
   "execution_count": 1,
   "metadata": {},
   "outputs": [],
   "source": [
    "# from selenium import webdriver\n",
    "from bs4 import BeautifulSoup\n",
    "import pandas as pd\n",
    "import requests"
   ]
  },
  {
   "cell_type": "markdown",
   "metadata": {},
   "source": [
    "*importing all the required packages* "
   ]
  },
  {
   "cell_type": "code",
   "execution_count": 2,
   "metadata": {},
   "outputs": [],
   "source": [
    "URL = \"https://www.worldometers.info/coronavirus/\"\n",
    "\n",
    "# browser = webdriver.Firefox()\n",
    "page = requests.get(URL)\n",
    "\n",
    "# print(page.content)\n",
    "\n",
    "soup = BeautifulSoup(page.content, 'html.parser')\n",
    "table = soup.find(id= 'main_table_countries_today')"
   ]
  },
  {
   "cell_type": "code",
   "execution_count": 3,
   "metadata": {},
   "outputs": [],
   "source": [
    "# table.prettify()"
   ]
  },
  {
   "cell_type": "code",
   "execution_count": 4,
   "metadata": {},
   "outputs": [],
   "source": [
    "thead = table.find('thead')\n",
    "# thead"
   ]
  },
  {
   "cell_type": "code",
   "execution_count": 5,
   "metadata": {},
   "outputs": [],
   "source": [
    "thead_cols = thead.find_all('th')\n",
    "\n",
    "\n",
    "head = []\n",
    "\n",
    "for col in thead_cols:\n",
    "    head.append(col.text)\n"
   ]
  },
  {
   "cell_type": "code",
   "execution_count": 6,
   "metadata": {},
   "outputs": [
    {
     "data": {
      "text/plain": [
       "['Country,Other',\n",
       " 'TotalCases',\n",
       " 'NewCases',\n",
       " 'TotalDeaths',\n",
       " 'NewDeaths',\n",
       " 'TotalRecovered',\n",
       " 'ActiveCases',\n",
       " 'Serious,Critical',\n",
       " 'Tot\\xa0Cases/1M pop',\n",
       " 'Tot\\xa0Deaths/1M pop']"
      ]
     },
     "execution_count": 6,
     "metadata": {},
     "output_type": "execute_result"
    }
   ],
   "source": [
    "head"
   ]
  },
  {
   "cell_type": "code",
   "execution_count": 7,
   "metadata": {},
   "outputs": [],
   "source": [
    "tbody = soup.find('tbody')\n",
    "# tbody"
   ]
  },
  {
   "cell_type": "code",
   "execution_count": 8,
   "metadata": {},
   "outputs": [],
   "source": [
    "rows  = tbody.find_all('tr')\n",
    "# rows"
   ]
  },
  {
   "cell_type": "code",
   "execution_count": 21,
   "metadata": {},
   "outputs": [],
   "source": [
    "# rows[0]"
   ]
  },
  {
   "cell_type": "code",
   "execution_count": 17,
   "metadata": {},
   "outputs": [],
   "source": [
    "row_data = []\n",
    "for row in rows:\n",
    "        cols = row.find_all('td')\n",
    "        row = [i.text.strip() for i in cols]\n",
    "        row_data.append(row)"
   ]
  },
  {
   "cell_type": "code",
   "execution_count": 11,
   "metadata": {},
   "outputs": [],
   "source": [
    "# row_data"
   ]
  },
  {
   "cell_type": "code",
   "execution_count": 22,
   "metadata": {},
   "outputs": [],
   "source": [
    "Country = []\n",
    "TotalCases = []\n",
    "NewCases = []\n",
    "TotalDeaths = []\n",
    "NewDeaths= []\n",
    "TotalRecovered= []\n",
    "ActiveCases= []\n",
    "SeriousCritical= []\n",
    "TotCases1Mpop= []\n",
    "TotDeaths1Mpop= []\n",
    "\n",
    "\n",
    "for row in row_data:\n",
    "    Country.append(row[0])\n",
    "    TotalCases.append(row[1])\n",
    "    NewCases.append(row[2])\n",
    "    TotalDeaths.append(row[3])\n",
    "    NewDeaths.append(row[4])\n",
    "    TotalRecovered.append(row[5])\n",
    "    ActiveCases.append(row[6])\n",
    "    SeriousCritical.append(row[7])\n",
    "    TotCases1Mpop.append(row[8])\n",
    "    TotDeaths1Mpop.append(row[9])\n",
    "\n"
   ]
  },
  {
   "cell_type": "code",
   "execution_count": 24,
   "metadata": {},
   "outputs": [],
   "source": [
    "# Country\n",
    "\n",
    "# TotalCases"
   ]
  },
  {
   "cell_type": "code",
   "execution_count": 36,
   "metadata": {},
   "outputs": [],
   "source": [
    "df = pd.DataFrame({'Country/Other': Country, 'Total Cases': TotalCases, 'New Cases': NewCases, 'New Deaths': NewDeaths, 'Total Death': TotalDeaths,'Total Recovered': TotalRecovered, 'Active Cases':ActiveCases, 'Serious/Critical': SeriousCritical, 'Tot Cases/ 1M pop': TotCases1Mpop, 'Tot Deaths/ 1M pop': TotDeaths1Mpop} )"
   ]
  },
  {
   "cell_type": "code",
   "execution_count": 37,
   "metadata": {},
   "outputs": [
    {
     "data": {
      "text/html": [
       "<div>\n",
       "<style scoped>\n",
       "    .dataframe tbody tr th:only-of-type {\n",
       "        vertical-align: middle;\n",
       "    }\n",
       "\n",
       "    .dataframe tbody tr th {\n",
       "        vertical-align: top;\n",
       "    }\n",
       "\n",
       "    .dataframe thead th {\n",
       "        text-align: right;\n",
       "    }\n",
       "</style>\n",
       "<table border=\"1\" class=\"dataframe\">\n",
       "  <thead>\n",
       "    <tr style=\"text-align: right;\">\n",
       "      <th></th>\n",
       "      <th>Country/Other</th>\n",
       "      <th>Total Cases</th>\n",
       "      <th>New Cases</th>\n",
       "      <th>New Deaths</th>\n",
       "      <th>Total Death</th>\n",
       "      <th>Total Recovered</th>\n",
       "      <th>Active Cases</th>\n",
       "      <th>Serious/Critical</th>\n",
       "      <th>Tot Cases/ 1M pop</th>\n",
       "      <th>Tot Deaths/ 1M pop</th>\n",
       "    </tr>\n",
       "  </thead>\n",
       "  <tbody>\n",
       "    <tr>\n",
       "      <th>0</th>\n",
       "      <td>China</td>\n",
       "      <td>81,285</td>\n",
       "      <td>+67</td>\n",
       "      <td>+6</td>\n",
       "      <td>3,287</td>\n",
       "      <td>74,051</td>\n",
       "      <td>3,947</td>\n",
       "      <td>1,235</td>\n",
       "      <td>56</td>\n",
       "      <td>2</td>\n",
       "    </tr>\n",
       "    <tr>\n",
       "      <th>1</th>\n",
       "      <td>Italy</td>\n",
       "      <td>74,386</td>\n",
       "      <td></td>\n",
       "      <td></td>\n",
       "      <td>7,503</td>\n",
       "      <td>9,362</td>\n",
       "      <td>57,521</td>\n",
       "      <td>3,489</td>\n",
       "      <td>1,230</td>\n",
       "      <td>124</td>\n",
       "    </tr>\n",
       "    <tr>\n",
       "      <th>2</th>\n",
       "      <td>USA</td>\n",
       "      <td>68,905</td>\n",
       "      <td>+694</td>\n",
       "      <td>+10</td>\n",
       "      <td>1,037</td>\n",
       "      <td>428</td>\n",
       "      <td>67,440</td>\n",
       "      <td>1,455</td>\n",
       "      <td>208</td>\n",
       "      <td>3</td>\n",
       "    </tr>\n",
       "    <tr>\n",
       "      <th>3</th>\n",
       "      <td>Spain</td>\n",
       "      <td>56,188</td>\n",
       "      <td>+6,673</td>\n",
       "      <td>+442</td>\n",
       "      <td>4,089</td>\n",
       "      <td>7,015</td>\n",
       "      <td>45,084</td>\n",
       "      <td>3,166</td>\n",
       "      <td>1,202</td>\n",
       "      <td>87</td>\n",
       "    </tr>\n",
       "    <tr>\n",
       "      <th>4</th>\n",
       "      <td>Germany</td>\n",
       "      <td>40,585</td>\n",
       "      <td>+3,262</td>\n",
       "      <td>+23</td>\n",
       "      <td>229</td>\n",
       "      <td>5,669</td>\n",
       "      <td>34,687</td>\n",
       "      <td>23</td>\n",
       "      <td>484</td>\n",
       "      <td>3</td>\n",
       "    </tr>\n",
       "    <tr>\n",
       "      <th>...</th>\n",
       "      <td>...</td>\n",
       "      <td>...</td>\n",
       "      <td>...</td>\n",
       "      <td>...</td>\n",
       "      <td>...</td>\n",
       "      <td>...</td>\n",
       "      <td>...</td>\n",
       "      <td>...</td>\n",
       "      <td>...</td>\n",
       "      <td>...</td>\n",
       "    </tr>\n",
       "    <tr>\n",
       "      <th>194</th>\n",
       "      <td>Montserrat</td>\n",
       "      <td>1</td>\n",
       "      <td></td>\n",
       "      <td></td>\n",
       "      <td></td>\n",
       "      <td></td>\n",
       "      <td>1</td>\n",
       "      <td></td>\n",
       "      <td>200</td>\n",
       "      <td></td>\n",
       "    </tr>\n",
       "    <tr>\n",
       "      <th>195</th>\n",
       "      <td>Papua New Guinea</td>\n",
       "      <td>1</td>\n",
       "      <td></td>\n",
       "      <td></td>\n",
       "      <td></td>\n",
       "      <td></td>\n",
       "      <td>1</td>\n",
       "      <td></td>\n",
       "      <td>0.1</td>\n",
       "      <td></td>\n",
       "    </tr>\n",
       "    <tr>\n",
       "      <th>196</th>\n",
       "      <td>St. Vincent Grenadines</td>\n",
       "      <td>1</td>\n",
       "      <td></td>\n",
       "      <td></td>\n",
       "      <td></td>\n",
       "      <td></td>\n",
       "      <td>1</td>\n",
       "      <td></td>\n",
       "      <td>9</td>\n",
       "      <td></td>\n",
       "    </tr>\n",
       "    <tr>\n",
       "      <th>197</th>\n",
       "      <td>Timor-Leste</td>\n",
       "      <td>1</td>\n",
       "      <td></td>\n",
       "      <td></td>\n",
       "      <td></td>\n",
       "      <td></td>\n",
       "      <td>1</td>\n",
       "      <td></td>\n",
       "      <td>0.8</td>\n",
       "      <td></td>\n",
       "    </tr>\n",
       "    <tr>\n",
       "      <th>198</th>\n",
       "      <td>Turks and Caicos</td>\n",
       "      <td>1</td>\n",
       "      <td></td>\n",
       "      <td></td>\n",
       "      <td></td>\n",
       "      <td></td>\n",
       "      <td>1</td>\n",
       "      <td></td>\n",
       "      <td>26</td>\n",
       "      <td></td>\n",
       "    </tr>\n",
       "  </tbody>\n",
       "</table>\n",
       "<p>199 rows × 10 columns</p>\n",
       "</div>"
      ],
      "text/plain": [
       "              Country/Other Total Cases New Cases New Deaths Total Death  \\\n",
       "0                     China      81,285       +67         +6       3,287   \n",
       "1                     Italy      74,386                            7,503   \n",
       "2                       USA      68,905      +694        +10       1,037   \n",
       "3                     Spain      56,188    +6,673       +442       4,089   \n",
       "4                   Germany      40,585    +3,262        +23         229   \n",
       "..                      ...         ...       ...        ...         ...   \n",
       "194              Montserrat           1                                    \n",
       "195        Papua New Guinea           1                                    \n",
       "196  St. Vincent Grenadines           1                                    \n",
       "197             Timor-Leste           1                                    \n",
       "198        Turks and Caicos           1                                    \n",
       "\n",
       "    Total Recovered Active Cases Serious/Critical Tot Cases/ 1M pop  \\\n",
       "0            74,051        3,947            1,235                56   \n",
       "1             9,362       57,521            3,489             1,230   \n",
       "2               428       67,440            1,455               208   \n",
       "3             7,015       45,084            3,166             1,202   \n",
       "4             5,669       34,687               23               484   \n",
       "..              ...          ...              ...               ...   \n",
       "194                            1                                200   \n",
       "195                            1                                0.1   \n",
       "196                            1                                  9   \n",
       "197                            1                                0.8   \n",
       "198                            1                                 26   \n",
       "\n",
       "    Tot Deaths/ 1M pop  \n",
       "0                    2  \n",
       "1                  124  \n",
       "2                    3  \n",
       "3                   87  \n",
       "4                    3  \n",
       "..                 ...  \n",
       "194                     \n",
       "195                     \n",
       "196                     \n",
       "197                     \n",
       "198                     \n",
       "\n",
       "[199 rows x 10 columns]"
      ]
     },
     "execution_count": 37,
     "metadata": {},
     "output_type": "execute_result"
    }
   ],
   "source": [
    "df"
   ]
  },
  {
   "cell_type": "code",
   "execution_count": 38,
   "metadata": {},
   "outputs": [],
   "source": [
    "df.to_csv('CoronaUpdate.csv', index=False, encoding='utf-8')"
   ]
  },
  {
   "cell_type": "code",
   "execution_count": null,
   "metadata": {},
   "outputs": [],
   "source": []
  }
 ],
 "metadata": {
  "kernelspec": {
   "display_name": ".venv",
   "language": "python",
   "name": ".venv"
  },
  "language_info": {
   "codemirror_mode": {
    "name": "ipython",
    "version": 3
   },
   "file_extension": ".py",
   "mimetype": "text/x-python",
   "name": "python",
   "nbconvert_exporter": "python",
   "pygments_lexer": "ipython3",
   "version": "3.8.2"
  }
 },
 "nbformat": 4,
 "nbformat_minor": 4
}
